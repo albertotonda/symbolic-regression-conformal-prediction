{
 "cells": [
  {
   "cell_type": "markdown",
   "id": "a27bff51",
   "metadata": {},
   "source": [
    "# Script that creates a table for the paper"
   ]
  },
  {
   "cell_type": "code",
   "execution_count": 5,
   "id": "5a25f142",
   "metadata": {},
   "outputs": [],
   "source": [
    "# classic imports\n",
    "import os\n",
    "import pickle\n",
    "import pandas as pd\n",
    "\n",
    "# this is a weird fix for some weird error with paths\n",
    "import pathlib\n",
    "temp = pathlib.PosixPath\n",
    "pathlib.PosixPath = pathlib.WindowsPath"
   ]
  },
  {
   "cell_type": "code",
   "execution_count": 6,
   "id": "9299e160",
   "metadata": {},
   "outputs": [
    {
     "name": "stdout",
     "output_type": "stream",
     "text": [
      "Number of files: 22\n",
      "{'abalone': '../results/2024-06-07-full-results\\\\abalone\\\\symbolic_regression_cp.pk', 'airfoil_self_noise': '../results/2024-06-07-full-results\\\\airfoil_self_noise\\\\symbolic_regression_cp.pk', 'brazilian_houses': '../results/2024-06-07-full-results\\\\brazilian_houses\\\\symbolic_regression_cp.pk', 'california_housing': '../results/2024-06-07-full-results\\\\california_housing\\\\symbolic_regression_cp.pk', 'cars': '../results/2024-06-07-full-results\\\\cars\\\\symbolic_regression_cp.pk', 'concrete_compressive_strength': '../results/2024-06-07-full-results\\\\concrete_compressive_strength\\\\symbolic_regression_cp.pk', 'fifa': '../results/2024-06-07-full-results\\\\fifa\\\\symbolic_regression_cp.pk', 'grid_stability': '../results/2024-06-07-full-results\\\\grid_stability\\\\symbolic_regression_cp.pk', 'health_insurance': '../results/2024-06-07-full-results\\\\health_insurance\\\\symbolic_regression_cp.pk', 'kin8nm': '../results/2024-06-07-full-results\\\\kin8nm\\\\symbolic_regression_cp.pk', 'kings_county': '../results/2024-06-07-full-results\\\\kings_county\\\\symbolic_regression_cp.pk', 'miami_housing': '../results/2024-06-07-full-results\\\\miami_housing\\\\symbolic_regression_cp.pk', 'Moneyball': '../results/2024-06-07-full-results\\\\Moneyball\\\\symbolic_regression_cp.pk', 'physiochemical_protein': '../results/2024-06-07-full-results\\\\physiochemical_protein\\\\symbolic_regression_cp.pk', 'pumadyn32nh': '../results/2024-06-07-full-results\\\\pumadyn32nh\\\\symbolic_regression_cp.pk', 'QSAR_fish_toxicity': '../results/2024-06-07-full-results\\\\QSAR_fish_toxicity\\\\symbolic_regression_cp.pk', 'red_wine': '../results/2024-06-07-full-results\\\\red_wine\\\\symbolic_regression_cp.pk', 'socmob': '../results/2024-06-07-full-results\\\\socmob\\\\symbolic_regression_cp.pk', 'space_ga': '../results/2024-06-07-full-results\\\\space_ga\\\\symbolic_regression_cp.pk', 'superconductivity': '../results/2024-06-07-full-results\\\\superconductivity\\\\symbolic_regression_cp.pk', 'wave_energy': '../results/2024-06-07-full-results\\\\wave_energy\\\\symbolic_regression_cp.pk', 'white_wine': '../results/2024-06-07-full-results\\\\white_wine\\\\symbolic_regression_cp.pk'}\n"
     ]
    }
   ],
   "source": [
    "# root folder with the results\n",
    "results_folder = \"../results/2024-06-07-full-results\"\n",
    "pk_file_name = \"symbolic_regression_cp.pk\"\n",
    "\n",
    "# data structures\n",
    "datasets_to_files = {}\n",
    "\n",
    "# recursively walk through all the folders, looking for files\n",
    "for folder, subfolders, files in os.walk(results_folder) :\n",
    "    if pk_file_name in files :\n",
    "        datasets_to_files[os.path.basename(folder)] = os.path.join(folder, pk_file_name)\n",
    "\n",
    "print(\"Number of files: %d\" % len(datasets_to_files))\n",
    "print(datasets_to_files)"
   ]
  },
  {
   "cell_type": "code",
   "execution_count": 7,
   "id": "3f966c8d",
   "metadata": {},
   "outputs": [],
   "source": [
    "# right now, the equations are encoded as sympy objects; sympy objects have a method that can\n",
    "# convert them to latex expressions; so, we could manipulate the expression, replacing symbols\n",
    "# with more human-readable symbols. But to do that, we need to build a dictionary of Symbols\n",
    "\n",
    "# and maybe it's actually easier to replace stuff directly inside the latex expression\n",
    "dict_replacement = {}\n",
    "dict_replacement[r\"x_{0}\"] = r\"\\hat{y}\" # x_0 is actually the predicted (normalized) value\n",
    "dict_replacement[r\"x_{1}\"] = r\"\\sigma_d\" # x_1 is the sigmas, based on distance\n",
    "dict_replacement[r\"x_{2}\"] = r\"\\sigma_{std}\" # x_2 is the sigmas, based on standard deviation\n",
    "dict_replacement[r\"x_{3}\"] = r\"\\sigma_{oob}\" # x_3 is the sigmas, based on oob residuals\n",
    "dict_replacement[r\"x_{4}\"] = r\"\\sigma_{var}\" # x_4 is the sigmas, based on variance of predictors in ensemble\n",
    "\n",
    "# all other values are features, so we can just replace them with x_{n-5}\n",
    "# 116 is the maximum number of features appearing among the considered data sets\n",
    "dict_replacement_features = {}\n",
    "for i in range(0, 116) :\n",
    "    dict_replacement_features[\"x_{%d}\" % (i+5)] = \"x_{%d}\" % i"
   ]
  },
  {
   "cell_type": "code",
   "execution_count": 8,
   "id": "166cd35d",
   "metadata": {},
   "outputs": [
    {
     "name": "stdout",
     "output_type": "stream",
     "text": [
      "\\begin{tabular}{l|l|l|l}\n",
      "\\textbf{Data set name} & \\textbf{Best equation} & \\textbf{Data set name} & \\textbf{Best equation}\\\\ \\hline \\hline\n",
      "\\texttt{abalone} & $e^{\\sigma_{oob}}$ & \\texttt{miami\\_housing} & $\\sigma_d + 5.22 \\sigma_{var}$ \\\\ \\hline\n",
      "\\texttt{airfoil\\_self\\_noise} & $\\sigma_{var} + 0.364$ & \\texttt{Moneyball} & $\\sin{\\left(\\sin{\\left(\\sin{\\left(\\sin{\\left(\\cos{\\left(\\cos{\\left(x_{0} \\left(x_{7} - 0.861\\right) \\right)} \\right)} \\right)} \\right)} \\right)} \\right)}$ \\\\ \\hline\n",
      "\\texttt{brazilian\\_houses} & $\\log{\\left(\\hat{y} + 1.23 \\right)}$ & \\texttt{physiochemical\\_protein} & $\\sigma_{var} + 0.923$ \\\\ \\hline\n",
      "\\texttt{california\\_housing} & $3.00 \\sigma_{var} + 0.451$ & \\texttt{pumadyn32nh} & $- 0.0338 x_{12} + 0.0338 x_{1} + 1.16$ \\\\ \\hline\n",
      "\\texttt{cars} & $\\log{\\left(\\sigma_{oob} + 1.11 \\right)}$ & \\texttt{QSAR\\_fish\\_toxicity} & $e^{\\sin{\\left(\\frac{- x_{5} - 0.901}{\\cos{\\left(0.592 \\sigma_d + 0.592 x_{4} \\right)}} \\right)} \\cos{\\left(\\hat{y} \\right)}} + 0.386$ \\\\ \\hline\n",
      "\\texttt{concrete\\_compressive\\_strength} & $\\cos{\\left(\\cos{\\left(\\frac{\\sigma_{var} e^{\\hat{y} - \\sin{\\left(\\sin{\\left(x_{6} \\right)} \\right)}}}{x_{2}} \\right)} + 0.0763 \\right)}$ & \\texttt{red\\_wine} & $\\sigma_{var} + 1.33$ \\\\ \\hline\n",
      "\\texttt{fifa} & $4.98 \\sigma_{oob}$ & \\texttt{socmob} & $\\log{\\left(\\hat{y} + 1.51 \\right)} - \\sin{\\left(\\frac{\\sigma_{var}}{\\log{\\left(\\sigma_{var} \\right)}} \\right)}$ \\\\ \\hline\n",
      "\\texttt{grid\\_stability} & $\\sigma_{oob} + 0.360$ & \\texttt{space\\_ga} & $0.706 e^{\\sigma_{oob} + \\left(x_{0} - x_{2}\\right) e^{- \\sin{\\left(x_{5} x_{0} \\right)}}}$ \\\\ \\hline\n",
      "\\texttt{health\\_insurance} & $\\sigma_{oob} + 1.09$ & \\texttt{superconductivity} & $\\sigma_{oob} + 0.297$ \\\\ \\hline\n",
      "\\texttt{kin8nm} & $\\sigma_{oob} + 0.741$ & \\texttt{wave\\_energy} & $\\sigma_{oob} + 0.435$ \\\\ \\hline\n",
      "\\texttt{kings\\_county} & $7.96 \\sigma_{var} + 0.371$ & \\texttt{white\\_wine} & $1.17 e^{\\sigma_{var}}$ \\\\ \\hline\n",
      "\\end{tabular}\n",
      "\n"
     ]
    }
   ],
   "source": [
    "# this part takes for granted that we have a total of 22 data sets,\n",
    "# so that we can create two columns of 11 data sets\n",
    "latex_table = r\"\\begin{tabular}{l|l|l|l}\" + \"\\n\" \n",
    "latex_table += r\"\\textbf{Data set name} & \\textbf{Best equation} & \\textbf{Data set name} & \\textbf{Best equation}\\\\ \\hline \\hline\" + \"\\n\"\n",
    "\n",
    "# list of keys in the dictionary\n",
    "datasets = [key for key in datasets_to_files]\n",
    "\n",
    "for i in range(0, 11) :\n",
    "    # columns to the left\n",
    "    dataset_left = datasets[i]\n",
    "    # add data set name\n",
    "    # for the data set name, we need to escape all \"_\" with \"\\_\"\n",
    "    latex_table += r\"\\texttt{\" + dataset_left.replace(\"_\", r\"\\_\") + r\"} & \"\n",
    "    # add equation\n",
    "    sr_left = pickle.load(open(datasets_to_files[dataset_left], \"rb\"))\n",
    "    equation = sr_left.latex()\n",
    "    # replacement of variables in two steps, to avoid issues with x_%d\n",
    "    for key, value in dict_replacement.items() :\n",
    "        equation = equation.replace(key, value)\n",
    "    for key, value in dict_replacement_features.items() :\n",
    "        equation = equation.replace(key, value)\n",
    "    latex_table += r\"$\" + equation + r\"$\" + r\" & \"\n",
    "    \n",
    "    # columns to the right\n",
    "    dataset_right = datasets[i+11]\n",
    "    # add data set name\n",
    "    # for the data set name, we need to escape all \"_\" with \"\\_\"\n",
    "    latex_table += r\"\\texttt{\" + dataset_right.replace(\"_\", r\"\\_\") + r\"} & \"\n",
    "    # add equation\n",
    "    sr_right = pickle.load(open(datasets_to_files[dataset_right], \"rb\"))\n",
    "    equation = sr_right.latex()\n",
    "    # replacement of variables in two steps, to avoid issues with x_%d\n",
    "    for key, value in dict_replacement.items() :\n",
    "        equation = equation.replace(key, value)\n",
    "    for key, value in dict_replacement_features.items() :\n",
    "        equation = equation.replace(key, value)\n",
    "    latex_table += r\"$\" + equation + r\"$\" + r\" \\\\ \\hline\" + \"\\n\"\n",
    "\n",
    "latex_table += r\"\\end{tabular}\" + \"\\n\"\n",
    "\n",
    "print(latex_table)"
   ]
  },
  {
   "cell_type": "code",
   "execution_count": 15,
   "id": "e580b9a8",
   "metadata": {},
   "outputs": [
    {
     "name": "stdout",
     "output_type": "stream",
     "text": [
      "e^{x_{3}}\n"
     ]
    }
   ],
   "source": [
    "# just a test\n",
    "sr_path = datasets_to_files[datasets[0]]\n",
    "sr = pickle.load(open(sr_path, \"rb\"))\n",
    "\n",
    "print(sr.latex())"
   ]
  },
  {
   "cell_type": "code",
   "execution_count": null,
   "id": "a3daa0b3",
   "metadata": {},
   "outputs": [],
   "source": []
  }
 ],
 "metadata": {
  "kernelspec": {
   "display_name": "Python 3 (ipykernel)",
   "language": "python",
   "name": "python3"
  },
  "language_info": {
   "codemirror_mode": {
    "name": "ipython",
    "version": 3
   },
   "file_extension": ".py",
   "mimetype": "text/x-python",
   "name": "python",
   "nbconvert_exporter": "python",
   "pygments_lexer": "ipython3",
   "version": "3.10.14"
  }
 },
 "nbformat": 4,
 "nbformat_minor": 5
}
